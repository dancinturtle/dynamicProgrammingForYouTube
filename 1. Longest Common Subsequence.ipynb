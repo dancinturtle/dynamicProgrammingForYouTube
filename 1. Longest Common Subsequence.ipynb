{
 "cells": [
  {
   "cell_type": "markdown",
   "id": "4c1a938d",
   "metadata": {},
   "source": [
    "## Longest common subsequence\n",
    "\n",
    "This notebook corresponds with the YouTube video found here: https://youtu.be/GlMPBem17jQ\n",
    "\n",
    "The LCS problem is finding the longest subsequence in two sequences in the same order.\n",
    "\n",
    "Unlike substrings, subsequences are not required to occupy consecutive positions within the original string.\n",
    "\n",
    "For example:\n",
    "```\n",
    "a = \"ABCD\"\n",
    "b = \"BACD\"\n",
    "\n",
    "The Longest Common Subsequences are \"ACD\" and \"BCD\".\n",
    "The length of the LCS is 3.\n",
    "```\n"
   ]
  },
  {
   "cell_type": "markdown",
   "id": "c12ee6da",
   "metadata": {},
   "source": [
    "### Recursive solution\n",
    "\n",
    "This problem has optimal substructure. The problem can be broken down into smaller, simple subproblems, which can yet be broken down into simpler subproblems until the problem becomes trivial.\n",
    "\n",
    "<img src=\"assets/recursion.png\" width=560 height=560 />\n",
    "\n",
    "\n",
    "#### Pseudocode\n",
    "function accepts two strings, str1 and str2\n",
    "\n",
    "base case: if either string is empty, return 0\n",
    "\n",
    "if last characters match: call the function again, passing in the same strings with last characters dropped, +1, return the result\n",
    "\n",
    "else:\n",
    "\n",
    "call the function with str1 and str2 with last character dropped\n",
    "\n",
    "call the function with str1 with the last character dropped and str2\n",
    "\n",
    "return the bigger of the two\n"
   ]
  },
  {
   "cell_type": "code",
   "execution_count": 1,
   "id": "0dba9d3b",
   "metadata": {},
   "outputs": [],
   "source": [
    "def lcs(str1, str2):\n",
    "    \n",
    "    \"\"\" \n",
    "    str1: string\n",
    "    str2: string\n",
    "    returns an integer\n",
    "    lcs uses recursion to determine the length of the longest common subsequence shared by str1 and str2\n",
    "    \"\"\"\n",
    "    \n",
    "    if len(str1) == 0 or len(str2) == 0:\n",
    "        return 0\n",
    "    if str1[-1] == str2[-1]:\n",
    "        return lcs(str1[:-1], str2[:-1]) + 1\n",
    "    left = lcs(str1, str2[:-1])\n",
    "    right = lcs(str1[:-1], str2)\n",
    "    return max(left, right)"
   ]
  },
  {
   "cell_type": "code",
   "execution_count": 2,
   "id": "c9841a52",
   "metadata": {},
   "outputs": [],
   "source": [
    "a = \"ABCD\"\n",
    "b = \"BACD\"\n",
    "X = \"ABCBDAB\"\n",
    "Y = \"BDCABA\"\n",
    "c = \"ABCBABAEDBASDAGASDFASFG\"\n",
    "d = \"ABCBABAESBASDAGASDJASFG\""
   ]
  },
  {
   "cell_type": "code",
   "execution_count": 3,
   "id": "e854d01b",
   "metadata": {},
   "outputs": [
    {
     "data": {
      "text/plain": [
       "3"
      ]
     },
     "execution_count": 3,
     "metadata": {},
     "output_type": "execute_result"
    }
   ],
   "source": [
    "# Expected result: 3\n",
    "lcs(a, b)"
   ]
  },
  {
   "cell_type": "code",
   "execution_count": 4,
   "id": "4feac3fb",
   "metadata": {},
   "outputs": [
    {
     "data": {
      "text/plain": [
       "4"
      ]
     },
     "execution_count": 4,
     "metadata": {},
     "output_type": "execute_result"
    }
   ],
   "source": [
    "# Expected result: 4\n",
    "lcs(X, Y)"
   ]
  },
  {
   "cell_type": "markdown",
   "id": "c3f44d85",
   "metadata": {},
   "source": [
    "### Dynamic solution\n",
    "\n",
    "The bottom up approach is to start with empty strings and build our strings one letter at a time.\n",
    "\n",
    "Using a matrix to store our values for the substrings, we can refer to previous answers to determine the effect of adding a letter to the string.\n",
    "\n",
    "For example:\n",
    "\n",
    "The length of the longest common subsequence between \"ABB\" and \"ACB\" is the length of the common subsequence between \"AB\" and \"AC\" + 1.\n",
    "\n",
    "The length of the longest common subsequence between \"ABC\" and \"CBA\" is the longer of the common subsequences between \"AB\" and \"CBA\" or between \"ABC\" and \"CB\".\n",
    "\n",
    "<img src=\"assets/dynamic.png\" width=560 height=560 />\n",
    "\n",
    "#### Pseudocode\n",
    "\n",
    "Build a matrix\n",
    "\n",
    "Width is len(str1) + 1, length is len(str2) + 1, fill it with 0's\n",
    "\n",
    "Iterate through the matrix starting at position (1, 1)\n",
    "\n",
    "Row - 1 = position in str2, Col - 1 = position in str1\n",
    "\n",
    "Compare the characters, if they match, fill in the cell with the value in upper left cell + 1, if they don't match, fill in the cell with the larger of the values from the cells above and to the left"
   ]
  },
  {
   "cell_type": "code",
   "execution_count": 5,
   "id": "99b23344",
   "metadata": {},
   "outputs": [],
   "source": [
    "def lcsDy(str1, str2):\n",
    "    \n",
    "    \"\"\" \n",
    "    str1: string\n",
    "    str2: string\n",
    "    returns an integer\n",
    "    lcsDy accepts two strings and uses a bottom up dynamic approach with a 2D array to return the \n",
    "    length of the longest common subsequence shared by str1 and str2\n",
    "    \"\"\"\n",
    "    \n",
    "    matrix = [[0 for _ in range(len(str1) + 1)] for _ in range(len(str2) + 1)]\n",
    "    for row in range(1, len(matrix)):\n",
    "        for col in range(1, len(matrix[0])):\n",
    "            if str1[col-1] == str2[row-1]:\n",
    "                matrix[row][col] = matrix[row-1][col-1] + 1\n",
    "            else:\n",
    "                up = matrix[row-1][col]\n",
    "                left = matrix[row][col-1]\n",
    "                matrix[row][col] = max(up, left)\n",
    "    return matrix[-1][-1]"
   ]
  },
  {
   "cell_type": "code",
   "execution_count": 6,
   "id": "06f3036c",
   "metadata": {},
   "outputs": [
    {
     "data": {
      "text/plain": [
       "3"
      ]
     },
     "execution_count": 6,
     "metadata": {},
     "output_type": "execute_result"
    }
   ],
   "source": [
    "lcsDy(a, b)"
   ]
  },
  {
   "cell_type": "code",
   "execution_count": 7,
   "id": "b546bebb",
   "metadata": {},
   "outputs": [
    {
     "data": {
      "text/plain": [
       "4"
      ]
     },
     "execution_count": 7,
     "metadata": {},
     "output_type": "execute_result"
    }
   ],
   "source": [
    "lcsDy(X, Y)"
   ]
  },
  {
   "cell_type": "markdown",
   "id": "3345e6a0",
   "metadata": {},
   "source": [
    "### Big O\n",
    "\n",
    "Use m and n as the lengths of the inputs.\n",
    "\n",
    "#### Recursive solution\n",
    "\n",
    "O($2^{m+n}$)\n",
    "\n",
    "Worst case scenario, the height of the recursive tree is $m + n$. Each level in the tree doubles the number of calls of the previous level.\n",
    "\n",
    "#### Dynamic solution\n",
    "\n",
    "O($m x n$)\n",
    "\n",
    "We construct a matrix that has dimensions $m x n$ and fill in every cell."
   ]
  },
  {
   "cell_type": "markdown",
   "id": "c7f43cec",
   "metadata": {},
   "source": [
    "### Time comparison\n",
    "\n",
    "Time for the functions to run when passed the strings c and d defined above:\n",
    "\n",
    "Recursive solution: ~2.72 s\n",
    "\n",
    "Dynamic solution: ~135 $\\mu$s\n",
    "\n",
    "\n"
   ]
  },
  {
   "cell_type": "code",
   "execution_count": 8,
   "id": "171c9faf",
   "metadata": {},
   "outputs": [
    {
     "name": "stdout",
     "output_type": "stream",
     "text": [
      "CPU times: user 2.68 s, sys: 3.61 ms, total: 2.68 s\n",
      "Wall time: 2.69 s\n"
     ]
    },
    {
     "data": {
      "text/plain": [
       "21"
      ]
     },
     "execution_count": 8,
     "metadata": {},
     "output_type": "execute_result"
    }
   ],
   "source": [
    "%%time\n",
    "lcs(c, d)"
   ]
  },
  {
   "cell_type": "code",
   "execution_count": 9,
   "id": "130748b4",
   "metadata": {},
   "outputs": [
    {
     "name": "stdout",
     "output_type": "stream",
     "text": [
      "CPU times: user 129 µs, sys: 0 ns, total: 129 µs\n",
      "Wall time: 131 µs\n"
     ]
    },
    {
     "data": {
      "text/plain": [
       "21"
      ]
     },
     "execution_count": 9,
     "metadata": {},
     "output_type": "execute_result"
    }
   ],
   "source": [
    "%%time\n",
    "lcsDy(c, d)"
   ]
  }
 ],
 "metadata": {
  "kernelspec": {
   "display_name": "Python 3 (ipykernel)",
   "language": "python",
   "name": "python3"
  },
  "language_info": {
   "codemirror_mode": {
    "name": "ipython",
    "version": 3
   },
   "file_extension": ".py",
   "mimetype": "text/x-python",
   "name": "python",
   "nbconvert_exporter": "python",
   "pygments_lexer": "ipython3",
   "version": "3.9.6"
  }
 },
 "nbformat": 4,
 "nbformat_minor": 5
}
